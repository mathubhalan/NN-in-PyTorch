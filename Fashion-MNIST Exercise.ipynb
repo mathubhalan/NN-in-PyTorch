{
 "cells": [
  {
   "cell_type": "markdown",
   "metadata": {},
   "source": [
    "# Classifying Fashion-MNIST\n",
    "\n",
    "Now it's your turn to build and train a neural network. You'll be using the [Fashion-MNIST dataset](https://github.com/zalandoresearch/fashion-mnist), a drop-in replacement for the MNIST dataset. MNIST is actually quite trivial with neural networks where you can easily achieve better than 97% accuracy. Fashion-MNIST is a set of 28x28 greyscale images of clothes. It's more complex than MNIST, so it's a better representation of the actual performance of your network, and a better representation of datasets you'll use in the real world.\n",
    "\n",
    "<img src='assets/fashion-mnist-sprite.png' width=500px>\n",
    "\n",
    "In this notebook, you'll build your own neural network. For the most part, you could just copy and paste the code from Part 3, but you wouldn't be learning. It's important for you to write the code yourself and get it to work. Feel free to consult the previous notebook though as you work through this.\n",
    "\n",
    "First off, let's load the dataset through torchvision."
   ]
  },
  {
   "cell_type": "code",
   "execution_count": 1,
   "metadata": {},
   "outputs": [],
   "source": [
    "import torch\n",
    "from torchvision import datasets, transforms\n",
    "import helper\n",
    "\n",
    "# Define a transform to normalize the data\n",
    "transform = transforms.Compose([transforms.ToTensor(),\n",
    "                                transforms.Normalize((0.5, 0.5, 0.5), (0.5, 0.5, 0.5))])\n",
    "# Download and load the training data\n",
    "trainset = datasets.FashionMNIST('F_MNIST_data/', download=True, train=True, transform=transform)\n",
    "trainloader = torch.utils.data.DataLoader(trainset, batch_size=64, shuffle=True)\n",
    "\n",
    "# Download and load the test data\n",
    "testset = datasets.FashionMNIST('F_MNIST_data/', download=True, train=False, transform=transform)\n",
    "testloader = torch.utils.data.DataLoader(testset, batch_size=64, shuffle=True)"
   ]
  },
  {
   "cell_type": "markdown",
   "metadata": {},
   "source": [
    "Here we can see one of the images."
   ]
  },
  {
   "cell_type": "code",
   "execution_count": 2,
   "metadata": {},
   "outputs": [
    {
     "data": {
      "image/png": "[encoded data removed]",
      "text/plain": [
       "<matplotlib.figure.Figure at 0x7f3d8585b6d8>"
      ]
     },
     "metadata": {},
     "output_type": "display_data"
    }
   ],
   "source": [
    "image, label = next(iter(trainloader))\n",
    "helper.imshow(image[0,:]);"
   ]
  },
  {
   "cell_type": "markdown",
   "metadata": {},
   "source": [
    "With the data loaded, it's time to import the necessary packages."
   ]
  },
  {
   "cell_type": "code",
   "execution_count": 5,
   "metadata": {},
   "outputs": [],
   "source": [
    "%matplotlib inline\n",
    "%config InlineBackend.figure_format = 'retina'\n",
    "\n",
    "import matplotlib.pyplot as plt\n",
    "import numpy as np\n",
    "import time\n",
    "\n",
    "import torch\n",
    "from torch import nn\n",
    "from torch import optim\n",
    "import torch.nn.functional as F\n",
    "from torchvision import datasets, transforms\n",
    "from collections import OrderedDict\n",
    "\n",
    "import helper"
   ]
  },
  {
   "cell_type": "markdown",
   "metadata": {},
   "source": [
    "## Building the network\n",
    "\n",
    "Here you should define your network. As with MNIST, each image is 28x28 which is a total of 784 pixels, and there are 10 classes. You should include at least one hidden layer. We suggest you use ReLU activations for the layers and to return the logits from the forward pass. It's up to you how many layers you add and the size of those layers."
   ]
  },
  {
   "cell_type": "code",
   "execution_count": 7,
   "metadata": {},
   "outputs": [
    {
     "data": {
      "text/plain": [
       "Sequential(\n",
       "  (fc1): Linear(in_features=784, out_features=128, bias=True)\n",
       "  (relu1): ReLU()\n",
       "  (fc2): Linear(in_features=128, out_features=64, bias=True)\n",
       "  (relu2): ReLU()\n",
       "  (logits): Linear(in_features=64, out_features=10, bias=True)\n",
       ")"
      ]
     },
     "execution_count": 7,
     "metadata": {},
     "output_type": "execute_result"
    }
   ],
   "source": [
    "# TODO: Define your network architecture here\n",
    "# Hyperparameters for our network\n",
    "input_size = 784\n",
    "hidden_sizes = [128, 64]\n",
    "output_size = 10\n",
    "\n",
    "# Build a feed-forward network\n",
    "model = nn.Sequential(OrderedDict([\n",
    "                      ('fc1', nn.Linear(input_size, hidden_sizes[0])),\n",
    "                      ('relu1', nn.ReLU()),\n",
    "                      ('fc2', nn.Linear(hidden_sizes[0], hidden_sizes[1])),\n",
    "                      ('relu2', nn.ReLU()),\n",
    "                      ('logits', nn.Linear(hidden_sizes[1], output_size))]))\n",
    "model"
   ]
  },
  {
   "cell_type": "markdown",
   "metadata": {},
   "source": [
    "# Train the network\n",
    "\n",
    "Now you should create your network and train it. First you'll want to define [the criterion](http://pytorch.org/docs/master/nn.html#loss-functions) ( something like `nn.CrossEntropyLoss`) and [the optimizer](http://pytorch.org/docs/master/optim.html) (typically `optim.SGD` or `optim.Adam`).\n",
    "\n",
    "Then write the training code. Remember the training pass is a fairly straightforward process:\n",
    "\n",
    "* Make a forward pass through the network to get the logits \n",
    "* Use the logits to calculate the loss\n",
    "* Perform a backward pass through the network with `loss.backward()` to calculate the gradients\n",
    "* Take a step with the optimizer to update the weights\n",
    "\n",
    "By adjusting the hyperparameters (hidden units, learning rate, etc), you should be able to get the training loss below 0.4."
   ]
  },
  {
   "cell_type": "code",
   "execution_count": 8,
   "metadata": {},
   "outputs": [
    {
     "name": "stdout",
     "output_type": "stream",
     "text": [
      "Initial weights -  Parameter containing:\n",
      "tensor([[ 3.3706e-02,  3.4138e-02, -1.0524e-02,  ...,  2.2880e-02,\n",
      "         -1.8245e-02, -2.6350e-02],\n",
      "        [ 3.0996e-02, -1.4195e-02,  3.3184e-02,  ...,  1.1337e-02,\n",
      "          1.2640e-02, -2.6650e-02],\n",
      "        [ 9.1785e-03, -3.4982e-02, -7.9513e-03,  ..., -1.6553e-02,\n",
      "          1.0025e-02,  1.3174e-02],\n",
      "        ...,\n",
      "        [-9.2307e-03,  1.4877e-02,  1.6524e-02,  ...,  1.1387e-02,\n",
      "          2.6135e-02, -4.8743e-03],\n",
      "        [ 1.2567e-02, -1.9212e-02,  2.1455e-02,  ..., -2.0425e-02,\n",
      "          1.9623e-02, -2.6761e-02],\n",
      "        [-2.9126e-02,  2.1740e-03,  2.8028e-02,  ...,  3.3074e-02,\n",
      "          2.2395e-02,  2.4373e-02]])\n",
      "Gradient - tensor(1.00000e-02 *\n",
      "       [[ 0.1662,  0.1662,  0.1662,  ...,  0.1662,  0.1662,  0.1662],\n",
      "        [-0.1636, -0.1636, -0.1636,  ..., -0.1639, -0.1636, -0.1636],\n",
      "        [-0.0211, -0.0211, -0.0211,  ..., -0.0216, -0.0214, -0.0211],\n",
      "        ...,\n",
      "        [-0.1912, -0.1912, -0.1912,  ..., -0.1912, -0.1912, -0.1912],\n",
      "        [-0.2562, -0.2562, -0.2562,  ..., -0.2692, -0.2634, -0.2562],\n",
      "        [ 0.0832,  0.0832,  0.0832,  ...,  0.0690,  0.0752,  0.0832]])\n",
      "Updated weights -  Parameter containing:\n",
      "tensor([[ 3.3690e-02,  3.4122e-02, -1.0541e-02,  ...,  2.2864e-02,\n",
      "         -1.8262e-02, -2.6367e-02],\n",
      "        [ 3.1013e-02, -1.4179e-02,  3.3200e-02,  ...,  1.1353e-02,\n",
      "          1.2656e-02, -2.6634e-02],\n",
      "        [ 9.1807e-03, -3.4980e-02, -7.9492e-03,  ..., -1.6551e-02,\n",
      "          1.0027e-02,  1.3176e-02],\n",
      "        ...,\n",
      "        [-9.2115e-03,  1.4896e-02,  1.6544e-02,  ...,  1.1406e-02,\n",
      "          2.6154e-02, -4.8552e-03],\n",
      "        [ 1.2592e-02, -1.9187e-02,  2.1480e-02,  ..., -2.0398e-02,\n",
      "          1.9649e-02, -2.6735e-02],\n",
      "        [-2.9135e-02,  2.1657e-03,  2.8019e-02,  ...,  3.3067e-02,\n",
      "          2.2387e-02,  2.4364e-02]])\n"
     ]
    }
   ],
   "source": [
    "# TODO: Create the network, define the criterion and optimizer\n",
    "criterion = nn.CrossEntropyLoss()\n",
    "optimizer = optim.SGD(model.parameters(), lr=0.01)\n",
    "\n",
    "print('Initial weights - ', model.fc1.weight)\n",
    "\n",
    "images, labels = next(iter(trainloader))\n",
    "images.resize_(64, 784)\n",
    "\n",
    "# Clear the gradients, do this because gradients are accumulated\n",
    "optimizer.zero_grad()\n",
    "\n",
    "# Forward pass, then backward pass, then update weights\n",
    "output = model.forward(images)\n",
    "loss = criterion(output, labels)\n",
    "loss.backward()\n",
    "print('Gradient -', model.fc1.weight.grad)\n",
    "optimizer.step()\n",
    "\n",
    "print('Updated weights - ', model.fc1.weight)\n"
   ]
  },
  {
   "cell_type": "code",
   "execution_count": 9,
   "metadata": {},
   "outputs": [
    {
     "name": "stdout",
     "output_type": "stream",
     "text": [
      "Epoch: 1/3...  Loss: 2.2911\n",
      "Epoch: 1/3...  Loss: 2.2634\n",
      "Epoch: 1/3...  Loss: 2.2277\n",
      "Epoch: 1/3...  Loss: 2.1885\n",
      "Epoch: 1/3...  Loss: 2.1437\n",
      "Epoch: 1/3...  Loss: 2.0978\n",
      "Epoch: 1/3...  Loss: 2.0346\n",
      "Epoch: 1/3...  Loss: 1.9744\n",
      "Epoch: 1/3...  Loss: 1.9016\n",
      "Epoch: 1/3...  Loss: 1.8284\n",
      "Epoch: 1/3...  Loss: 1.7481\n",
      "Epoch: 1/3...  Loss: 1.6623\n",
      "Epoch: 1/3...  Loss: 1.5962\n",
      "Epoch: 1/3...  Loss: 1.5171\n",
      "Epoch: 1/3...  Loss: 1.4665\n",
      "Epoch: 1/3...  Loss: 1.4106\n",
      "Epoch: 1/3...  Loss: 1.3601\n",
      "Epoch: 1/3...  Loss: 1.2978\n",
      "Epoch: 1/3...  Loss: 1.2541\n",
      "Epoch: 1/3...  Loss: 1.2239\n",
      "Epoch: 1/3...  Loss: 1.1822\n",
      "Epoch: 1/3...  Loss: 1.1487\n",
      "Epoch: 1/3...  Loss: 1.0932\n",
      "Epoch: 2/3...  Loss: 0.6001\n",
      "Epoch: 2/3...  Loss: 1.0581\n",
      "Epoch: 2/3...  Loss: 1.0098\n",
      "Epoch: 2/3...  Loss: 1.0043\n",
      "Epoch: 2/3...  Loss: 0.9595\n",
      "Epoch: 2/3...  Loss: 0.9592\n",
      "Epoch: 2/3...  Loss: 0.9432\n",
      "Epoch: 2/3...  Loss: 0.9350\n",
      "Epoch: 2/3...  Loss: 0.9202\n",
      "Epoch: 2/3...  Loss: 0.9098\n",
      "Epoch: 2/3...  Loss: 0.8884\n",
      "Epoch: 2/3...  Loss: 0.8741\n",
      "Epoch: 2/3...  Loss: 0.8715\n",
      "Epoch: 2/3...  Loss: 0.8377\n",
      "Epoch: 2/3...  Loss: 0.8038\n",
      "Epoch: 2/3...  Loss: 0.7989\n",
      "Epoch: 2/3...  Loss: 0.8223\n",
      "Epoch: 2/3...  Loss: 0.7813\n",
      "Epoch: 2/3...  Loss: 0.8216\n",
      "Epoch: 2/3...  Loss: 0.7682\n",
      "Epoch: 2/3...  Loss: 0.7562\n",
      "Epoch: 2/3...  Loss: 0.7608\n",
      "Epoch: 2/3...  Loss: 0.7647\n",
      "Epoch: 3/3...  Loss: 0.0838\n",
      "Epoch: 3/3...  Loss: 0.7397\n",
      "Epoch: 3/3...  Loss: 0.7333\n",
      "Epoch: 3/3...  Loss: 0.6950\n",
      "Epoch: 3/3...  Loss: 0.7279\n",
      "Epoch: 3/3...  Loss: 0.7150\n",
      "Epoch: 3/3...  Loss: 0.7284\n",
      "Epoch: 3/3...  Loss: 0.6956\n",
      "Epoch: 3/3...  Loss: 0.7020\n",
      "Epoch: 3/3...  Loss: 0.7071\n",
      "Epoch: 3/3...  Loss: 0.6983\n",
      "Epoch: 3/3...  Loss: 0.6747\n",
      "Epoch: 3/3...  Loss: 0.6861\n",
      "Epoch: 3/3...  Loss: 0.6842\n",
      "Epoch: 3/3...  Loss: 0.6676\n",
      "Epoch: 3/3...  Loss: 0.6566\n",
      "Epoch: 3/3...  Loss: 0.6413\n",
      "Epoch: 3/3...  Loss: 0.6663\n",
      "Epoch: 3/3...  Loss: 0.6540\n",
      "Epoch: 3/3...  Loss: 0.6582\n",
      "Epoch: 3/3...  Loss: 0.6327\n",
      "Epoch: 3/3...  Loss: 0.6333\n",
      "Epoch: 3/3...  Loss: 0.6547\n",
      "Epoch: 3/3...  Loss: 0.6462\n"
     ]
    }
   ],
   "source": [
    "# TODO: Train the network here\n",
    "optimizer = optim.SGD(model.parameters(), lr=0.003)\n",
    "\n",
    "epochs = 3\n",
    "print_every = 40\n",
    "steps = 0\n",
    "for e in range(epochs):\n",
    "    running_loss = 0\n",
    "    for images, labels in iter(trainloader):\n",
    "        steps += 1\n",
    "        # Flatten MNIST images into a 784 long vector\n",
    "        images.resize_(images.size()[0], 784)\n",
    "        \n",
    "        optimizer.zero_grad()\n",
    "        \n",
    "        # Forward and backward passes\n",
    "        output = model.forward(images)\n",
    "        loss = criterion(output, labels)\n",
    "        loss.backward()\n",
    "        optimizer.step()\n",
    "        \n",
    "        running_loss += loss.item()\n",
    "        \n",
    "        if steps % print_every == 0:\n",
    "            print(\"Epoch: {}/{}... \".format(e+1, epochs),\n",
    "                  \"Loss: {:.4f}\".format(running_loss/print_every))\n",
    "            \n",
    "            running_loss = 0"
   ]
  },
  {
   "cell_type": "code",
   "execution_count": 10,
   "metadata": {},
   "outputs": [
    {
     "data": {
      "image/png": "[encoded data removed]",
      "text/plain": [
       "<matplotlib.figure.Figure at 0x7f3d822ec048>"
      ]
     },
     "metadata": {
      "image/png": {
       "height": 204,
       "width": 423
      }
     },
     "output_type": "display_data"
    }
   ],
   "source": [
    "# Test out your network!\n",
    "\n",
    "dataiter = iter(testloader)\n",
    "images, labels = dataiter.next()\n",
    "img = images[0]\n",
    "# Convert 2D image to 1D vector\n",
    "img = img.resize_(1, 784)\n",
    "# Turn off gradients to speed up this part\n",
    "#with torch.no_grad():\n",
    "    #logits = model.forward(img)\n",
    "\n",
    "\n",
    "# TODO: Calculate the class probabilities (softmax) for img\n",
    "ps = ps = F.softmax(model.forward(img), dim=1)\n",
    "\n",
    "# Plot the image and probabilities\n",
    "helper.view_classify(img.resize_(1, 28, 28), ps, version='Fashion')"
   ]
  },
  {
   "cell_type": "markdown",
   "metadata": {},
   "source": [
    "Now that your network is trained, you'll want to save it to disk so you can load it later instead of training it again. Obviously, it's impractical to train a network every time you need one. In practice, you'll train it once, save the model, then reload it for further training or making predictions. In the next part, I'll show you how to save and load trained models."
   ]
  }
 ],
 "metadata": {
  "kernelspec": {
   "display_name": "Python 3",
   "language": "python",
   "name": "python3"
  },
  "language_info": {
   "codemirror_mode": {
    "name": "ipython",
    "version": 3
   },
   "file_extension": ".py",
   "mimetype": "text/x-python",
   "name": "python",
   "nbconvert_exporter": "python",
   "pygments_lexer": "ipython3",
   "version": "3.6.3"
  }
 },
 "nbformat": 4,
 "nbformat_minor": 2
}
