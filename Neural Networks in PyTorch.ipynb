{
 "cells": [
  {
   "cell_type": "markdown",
   "metadata": {},
   "source": [
    "# Neural networks with PyTorch\n",
    "\n",
    "Next I'll show you how to build a neural network with PyTorch."
   ]
  },
  {
   "cell_type": "code",
   "execution_count": 8,
   "metadata": {},
   "outputs": [],
   "source": [
    "# Import things like usual\n",
    "\n",
    "%matplotlib inline\n",
    "%config InlineBackend.figure_format = 'retina'\n",
    "\n",
    "import numpy as np\n",
    "import torch\n",
    "\n",
    "import helper\n",
    "\n",
    "import matplotlib.pyplot as plt\n",
    "from torchvision import datasets, transforms"
   ]
  },
  {
   "cell_type": "markdown",
   "metadata": {},
   "source": [
    "First up, we need to get our dataset. This is provided through the `torchvision` package. The code below will download the MNIST dataset, then create training and test datasets for us. Don't worry too much about the details here, you'll learn more about this later."
   ]
  },
  {
   "cell_type": "code",
   "execution_count": 9,
   "metadata": {},
   "outputs": [
    {
     "name": "stdout",
     "output_type": "stream",
     "text": [
      "Downloading http://yann.lecun.com/exdb/mnist/train-images-idx3-ubyte.gz\n",
      "Downloading http://yann.lecun.com/exdb/mnist/train-labels-idx1-ubyte.gz\n",
      "Downloading http://yann.lecun.com/exdb/mnist/t10k-images-idx3-ubyte.gz\n",
      "Downloading http://yann.lecun.com/exdb/mnist/t10k-labels-idx1-ubyte.gz\n",
      "Processing...\n",
      "Done!\n"
     ]
    }
   ],
   "source": [
    "# Define a transform to normalize the data\n",
    "transform = transforms.Compose([transforms.ToTensor(),\n",
    "                              transforms.Normalize((0.5, 0.5, 0.5), (0.5, 0.5, 0.5)),\n",
    "                             ])\n",
    "# Download and load the training data\n",
    "trainset = datasets.MNIST('MNIST_data/', download=True, train=True, transform=transform)\n",
    "trainloader = torch.utils.data.DataLoader(trainset, batch_size=64, shuffle=True)\n",
    "\n",
    "# Download and load the test data\n",
    "testset = datasets.MNIST('MNIST_data/', download=True, train=False, transform=transform)\n",
    "testloader = torch.utils.data.DataLoader(testset, batch_size=64, shuffle=True)"
   ]
  },
  {
   "cell_type": "code",
   "execution_count": 10,
   "metadata": {},
   "outputs": [],
   "source": [
    "dataiter = iter(trainloader)\n",
    "images, labels = dataiter.next()"
   ]
  },
  {
   "cell_type": "markdown",
   "metadata": {},
   "source": [
    "We have the training data loaded into `trainloader` and we make that an iterator with `iter(trainloader)`. We'd use this to loop through the dataset for training, but here I'm just grabbing the first batch so we can check out the data. We can see below that `images` is just a tensor with size (64, 1, 28, 28). So, 64 images per batch, 1 color channel, and 28x28 images."
   ]
  },
  {
   "cell_type": "code",
   "execution_count": 11,
   "metadata": {},
   "outputs": [
    {
     "data": {
      "image/png": "[encoded data removed]",
      "text/plain": [
       "<matplotlib.figure.Figure at 0x7f0b29be92b0>"
      ]
     },
     "metadata": {
      "image/png": {
       "height": 250,
       "width": 253
      }
     },
     "output_type": "display_data"
    }
   ],
   "source": [
    "plt.imshow(images[1].numpy().squeeze(), cmap='Greys_r');"
   ]
  },
  {
   "cell_type": "markdown",
   "metadata": {},
   "source": [
    "## Building networks with PyTorch\n",
    "\n",
    "Here I'll use PyTorch to build a simple feedfoward network to classify the MNIST images. That is, the network will receive a digit image as input and predict the digit in the image.\n",
    "\n",
    "<img src=\"assets/mlp_mnist.png\" width=600px>\n",
    "\n",
    "To build a neural network with PyTorch, you use the `torch.nn` module. The network itself is a class inheriting from `torch.nn.Module`. You define each of the operations separately, like `nn.Linear(784, 128)` for a fully connected linear layer with 784 inputs and 128 units.\n",
    "\n",
    "The class needs to include a `forward` method that implements the forward pass through the network. In this method, you pass some input tensor `x` through each of the operations you defined earlier. The `torch.nn` module also has functional equivalents for things like ReLUs in `torch.nn.functional`. This module is usually imported as `F`. Then to use a ReLU activation on some layer (which is just a tensor), you'd do `F.relu(x)`. Below are a few different commonly used activation functions.\n",
    "\n",
    "<img src=\"assets/activation.png\" width=700px>\n",
    "\n",
    "So, for this network, I'll build it with three fully connected layers, then a softmax output for predicting classes. The softmax function is similar to the sigmoid in that it squashes inputs between 0 and 1, but it's also normalized so that all the values sum to one like a proper probability distribution."
   ]
  },
  {
   "cell_type": "code",
   "execution_count": 12,
   "metadata": {},
   "outputs": [],
   "source": [
    "from torch import nn\n",
    "from torch import optim\n",
    "import torch.nn.functional as F"
   ]
  },
  {
   "cell_type": "code",
   "execution_count": 13,
   "metadata": {
    "scrolled": true
   },
   "outputs": [
    {
     "data": {
      "text/plain": [
       "Network(\n",
       "  (fc1): Linear(in_features=784, out_features=128, bias=True)\n",
       "  (fc2): Linear(in_features=128, out_features=64, bias=True)\n",
       "  (fc3): Linear(in_features=64, out_features=10, bias=True)\n",
       ")"
      ]
     },
     "execution_count": 13,
     "metadata": {},
     "output_type": "execute_result"
    }
   ],
   "source": [
    "class Network(nn.Module):\n",
    "    def __init__(self):\n",
    "        super().__init__()\n",
    "        # Defining the layers, 128, 64, 10 units each\n",
    "        self.fc1 = nn.Linear(784, 128)\n",
    "        self.fc2 = nn.Linear(128, 64)\n",
    "        # Output layer, 10 units - one for each digit\n",
    "        self.fc3 = nn.Linear(64, 10)\n",
    "        \n",
    "    def forward(self, x):\n",
    "        ''' Forward pass through the network, returns the output logits '''\n",
    "        \n",
    "        x = self.fc1(x)\n",
    "        x = F.relu(x)\n",
    "        x = self.fc2(x)\n",
    "        x = F.relu(x)\n",
    "        x = self.fc3(x)\n",
    "        x = F.softmax(x, dim=1)\n",
    "        \n",
    "        return x\n",
    "\n",
    "model = Network()\n",
    "model"
   ]
  },
  {
   "cell_type": "markdown",
   "metadata": {},
   "source": [
    "### Initializing weights and biases\n",
    "\n",
    "The weights and such are automatically initialized for you, but it's possible to customize how they are initialized. The weights and biases are tensors attached to the layer you defined, you can get them with `model.fc1.weight` for instance."
   ]
  },
  {
   "cell_type": "code",
   "execution_count": 14,
   "metadata": {},
   "outputs": [
    {
     "name": "stdout",
     "output_type": "stream",
     "text": [
      "Parameter containing:\n",
      "tensor([[ 2.3310e-02,  1.5790e-02,  1.3845e-02,  ...,  2.3275e-02,\n",
      "         -1.7375e-02, -2.1539e-02],\n",
      "        [ 3.5294e-02,  1.3468e-02,  1.9018e-02,  ...,  1.6764e-02,\n",
      "         -1.6225e-02, -8.2748e-03],\n",
      "        [ 7.5502e-04, -2.3205e-02, -1.3358e-02,  ...,  1.2167e-02,\n",
      "          3.3769e-02, -2.2758e-02],\n",
      "        ...,\n",
      "        [ 7.7711e-03,  1.0924e-02,  5.1403e-03,  ...,  1.9353e-02,\n",
      "         -1.0439e-02, -2.3676e-02],\n",
      "        [-3.2089e-02, -1.1588e-02, -2.0713e-02,  ...,  2.8729e-02,\n",
      "          1.8913e-02,  9.8286e-03],\n",
      "        [-3.2210e-02, -3.0519e-02, -1.5963e-02,  ..., -3.1845e-02,\n",
      "         -3.1344e-02,  3.2333e-02]])\n",
      "Parameter containing:\n",
      "tensor(1.00000e-02 *\n",
      "       [ 1.8514,  0.2523, -1.6232, -3.0656, -1.9150,  0.0568,  2.4904,\n",
      "         3.3517, -3.5026, -2.8106,  3.5361,  1.6138, -2.1954,  2.7305,\n",
      "        -2.0897, -1.7034, -3.2033,  0.1511, -0.7795,  0.2257, -0.3909,\n",
      "        -3.1803, -0.7853,  0.9163, -0.2750,  2.8766, -0.8111, -1.5793,\n",
      "         3.0621, -0.1976, -0.5830, -1.0168,  3.0941,  1.0839, -0.5493,\n",
      "         2.5097,  1.1670, -1.6278, -1.7832,  0.9803, -0.0240,  2.0908,\n",
      "        -2.3759,  2.0309,  2.0589, -1.1433, -0.1094, -2.1127,  0.0018,\n",
      "        -3.5498, -0.9948, -3.1865,  0.0976, -2.9342,  2.5605,  3.0580,\n",
      "         1.9146, -1.0993,  2.4540, -0.4194,  2.0283, -0.3423,  1.3448,\n",
      "         2.9068,  0.4361, -0.8262, -1.8871, -3.0038,  3.4966,  0.3318,\n",
      "        -0.3381, -0.2882, -2.5069, -1.0377,  2.7323, -0.4780,  1.5203,\n",
      "         3.0891, -0.5510, -1.1944, -0.3531, -2.0618, -0.1320,  2.5464,\n",
      "         2.4418, -2.5917,  1.3585, -3.3909, -1.7072,  2.0354,  1.5377,\n",
      "         0.9614,  3.0224, -1.9341,  0.7085,  0.2544, -3.3158, -1.9984,\n",
      "        -0.8466,  0.3864, -1.3752, -0.8050,  1.0263,  0.7361,  3.2731,\n",
      "        -2.1998, -3.1944,  2.5364, -3.4678, -0.0681, -3.5104,  3.0426,\n",
      "         0.3831, -3.4588,  0.3990,  0.5372, -1.1208,  3.2445, -2.3626,\n",
      "        -1.5974, -0.6272, -2.7937, -0.0750,  0.5250, -2.0539, -0.3781,\n",
      "         1.3976,  0.0267])\n"
     ]
    }
   ],
   "source": [
    "print(model.fc1.weight)\n",
    "print(model.fc1.bias)"
   ]
  },
  {
   "cell_type": "markdown",
   "metadata": {},
   "source": [
    "For custom initialization, we want to modify these tensors in place. These are actually autograd *Variables*, so we need to get back the actual tensors with `model.fc1.weight.data`. Once we have the tensors, we can fill them with zeros (for biases) or random normal values."
   ]
  },
  {
   "cell_type": "code",
   "execution_count": 15,
   "metadata": {},
   "outputs": [
    {
     "data": {
      "text/plain": [
       "tensor([ 0.,  0.,  0.,  0.,  0.,  0.,  0.,  0.,  0.,  0.,  0.,  0.,\n",
       "         0.,  0.,  0.,  0.,  0.,  0.,  0.,  0.,  0.,  0.,  0.,  0.,\n",
       "         0.,  0.,  0.,  0.,  0.,  0.,  0.,  0.,  0.,  0.,  0.,  0.,\n",
       "         0.,  0.,  0.,  0.,  0.,  0.,  0.,  0.,  0.,  0.,  0.,  0.,\n",
       "         0.,  0.,  0.,  0.,  0.,  0.,  0.,  0.,  0.,  0.,  0.,  0.,\n",
       "         0.,  0.,  0.,  0.,  0.,  0.,  0.,  0.,  0.,  0.,  0.,  0.,\n",
       "         0.,  0.,  0.,  0.,  0.,  0.,  0.,  0.,  0.,  0.,  0.,  0.,\n",
       "         0.,  0.,  0.,  0.,  0.,  0.,  0.,  0.,  0.,  0.,  0.,  0.,\n",
       "         0.,  0.,  0.,  0.,  0.,  0.,  0.,  0.,  0.,  0.,  0.,  0.,\n",
       "         0.,  0.,  0.,  0.,  0.,  0.,  0.,  0.,  0.,  0.,  0.,  0.,\n",
       "         0.,  0.,  0.,  0.,  0.,  0.,  0.,  0.])"
      ]
     },
     "execution_count": 15,
     "metadata": {},
     "output_type": "execute_result"
    }
   ],
   "source": [
    "# Set biases to all zeros\n",
    "model.fc1.bias.data.fill_(0)"
   ]
  },
  {
   "cell_type": "code",
   "execution_count": 16,
   "metadata": {},
   "outputs": [
    {
     "data": {
      "text/plain": [
       "tensor([[ 3.3413e-03,  7.8060e-03, -4.6105e-03,  ..., -5.0033e-03,\n",
       "          1.3986e-02,  1.7375e-02],\n",
       "        [ 1.7528e-02,  6.2768e-04,  9.9282e-03,  ..., -9.5757e-03,\n",
       "         -6.1269e-03, -5.4101e-04],\n",
       "        [ 2.5804e-02, -7.4868e-03, -6.7553e-03,  ..., -5.8185e-03,\n",
       "          1.4019e-03,  5.7130e-03],\n",
       "        ...,\n",
       "        [ 2.1592e-03,  4.3331e-03, -8.2107e-03,  ...,  8.9233e-03,\n",
       "          2.0755e-03, -1.3359e-03],\n",
       "        [-1.3822e-02,  9.7905e-04,  1.3332e-02,  ..., -1.4592e-02,\n",
       "         -1.2979e-02,  5.1442e-04],\n",
       "        [ 2.6314e-03,  2.4278e-03,  1.6476e-02,  ..., -1.3610e-02,\n",
       "          4.0793e-03,  3.4272e-03]])"
      ]
     },
     "execution_count": 16,
     "metadata": {},
     "output_type": "execute_result"
    }
   ],
   "source": [
    "# sample from random normal with standard dev = 0.01\n",
    "model.fc1.weight.data.normal_(std=0.01)"
   ]
  },
  {
   "cell_type": "markdown",
   "metadata": {},
   "source": [
    "### Forward pass\n",
    "\n",
    "Now that we have a network, let's see what happens when we pass in an image. This is called the forward pass. We're going to convert the image data into a tensor, then pass it through the operations defined by the network architecture."
   ]
  },
  {
   "cell_type": "code",
   "execution_count": 17,
   "metadata": {},
   "outputs": [
    {
     "data": {
      "image/png": "[encoded data removed]",
      "text/plain": [
       "<matplotlib.figure.Figure at 0x7f0b209d46d8>"
      ]
     },
     "metadata": {
      "image/png": {
       "height": 224,
       "width": 423
      }
     },
     "output_type": "display_data"
    }
   ],
   "source": [
    "# Grab some data \n",
    "dataiter = iter(trainloader)\n",
    "images, labels = dataiter.next()\n",
    "\n",
    "# Resize images into a 1D vector, new shape is (batch size, color channels, image pixels) \n",
    "images.resize_(64, 1, 784)\n",
    "# or images.resize_(images.shape[0], 1, 784) to not automatically get batch size\n",
    "\n",
    "# Forward pass through the network\n",
    "img_idx = 0\n",
    "ps = model.forward(images[img_idx,:])\n",
    "\n",
    "img = images[img_idx]\n",
    "helper.view_classify(img.view(1, 28, 28), ps)"
   ]
  },
  {
   "cell_type": "markdown",
   "metadata": {},
   "source": [
    "As you can see above, our network has basically no idea what this digit is. It's because we haven't trained it yet, all the weights are random!\n",
    "\n",
    "PyTorch provides a convenient way to build networks like this where a tensor is passed sequentially through operations, `nn.Sequential` ([documentation](https://pytorch.org/docs/master/nn.html#torch.nn.Sequential)). Using this to build the equivalent network:"
   ]
  },
  {
   "cell_type": "code",
   "execution_count": 18,
   "metadata": {},
   "outputs": [
    {
     "name": "stdout",
     "output_type": "stream",
     "text": [
      "Sequential(\n",
      "  (0): Linear(in_features=784, out_features=128, bias=True)\n",
      "  (1): ReLU()\n",
      "  (2): Linear(in_features=128, out_features=64, bias=True)\n",
      "  (3): ReLU()\n",
      "  (4): Linear(in_features=64, out_features=10, bias=True)\n",
      "  (5): Softmax()\n",
      ")\n"
     ]
    },
    {
     "data": {
      "image/png": "[encoded data removed]",
      "text/plain": [
       "<matplotlib.figure.Figure at 0x7f0b1dfbcac8>"
      ]
     },
     "metadata": {
      "image/png": {
       "height": 224,
       "width": 423
      }
     },
     "output_type": "display_data"
    }
   ],
   "source": [
    "# Hyperparameters for our network\n",
    "input_size = 784\n",
    "hidden_sizes = [128, 64]\n",
    "output_size = 10\n",
    "\n",
    "# Build a feed-forward network\n",
    "model = nn.Sequential(nn.Linear(input_size, hidden_sizes[0]),\n",
    "                      nn.ReLU(),\n",
    "                      nn.Linear(hidden_sizes[0], hidden_sizes[1]),\n",
    "                      nn.ReLU(),\n",
    "                      nn.Linear(hidden_sizes[1], output_size),\n",
    "                      nn.Softmax(dim=1))\n",
    "print(model)\n",
    "\n",
    "# Forward pass through the network and display output\n",
    "images, labels = next(iter(trainloader))\n",
    "images.resize_(images.shape[0], 1, 784)\n",
    "ps = model.forward(images[0,:])\n",
    "helper.view_classify(images[0].view(1, 28, 28), ps)"
   ]
  },
  {
   "cell_type": "markdown",
   "metadata": {},
   "source": [
    "You can also pass in an `OrderedDict` to name the individual layers and operations. Note that a dictionary keys must be unique, so _each operation must have a different name_."
   ]
  },
  {
   "cell_type": "code",
   "execution_count": 19,
   "metadata": {},
   "outputs": [
    {
     "data": {
      "text/plain": [
       "Sequential(\n",
       "  (fc1): Linear(in_features=784, out_features=128, bias=True)\n",
       "  (relu1): ReLU()\n",
       "  (fc2): Linear(in_features=128, out_features=64, bias=True)\n",
       "  (relu2): ReLU()\n",
       "  (output): Linear(in_features=64, out_features=10, bias=True)\n",
       "  (softmax): Softmax()\n",
       ")"
      ]
     },
     "execution_count": 19,
     "metadata": {},
     "output_type": "execute_result"
    }
   ],
   "source": [
    "from collections import OrderedDict\n",
    "model = nn.Sequential(OrderedDict([\n",
    "                      ('fc1', nn.Linear(input_size, hidden_sizes[0])),\n",
    "                      ('relu1', nn.ReLU()),\n",
    "                      ('fc2', nn.Linear(hidden_sizes[0], hidden_sizes[1])),\n",
    "                      ('relu2', nn.ReLU()),\n",
    "                      ('output', nn.Linear(hidden_sizes[1], output_size)),\n",
    "                      ('softmax', nn.Softmax(dim=1))]))\n",
    "model"
   ]
  },
  {
   "cell_type": "markdown",
   "metadata": {},
   "source": [
    "Now it's your turn to build a simple network, use any method I've covered so far. In the next notebook, you'll learn how to train a network so it can make good predictions.\n",
    "\n",
    ">**Exercise:** Build a network to classify the MNIST images with _three_ hidden layers. Use 400 units in the first hidden layer, 200 units in the second layer, and 100 units in the third layer. Each hidden layer should have a ReLU activation function, and use softmax on the output layer. "
   ]
  },
  {
   "cell_type": "code",
   "execution_count": 20,
   "metadata": {},
   "outputs": [
    {
     "data": {
      "text/plain": [
       "N_Network(\n",
       "  (fc1): Linear(in_features=784, out_features=400, bias=True)\n",
       "  (fc2): Linear(in_features=400, out_features=200, bias=True)\n",
       "  (fc3): Linear(in_features=200, out_features=100, bias=True)\n",
       "  (fc4): Linear(in_features=100, out_features=10, bias=True)\n",
       ")"
      ]
     },
     "execution_count": 20,
     "metadata": {},
     "output_type": "execute_result"
    }
   ],
   "source": [
    "## TODO: Your network here\n",
    "class N_Network(nn.Module):\n",
    "    def __init__(self):\n",
    "        super().__init__()\n",
    "        # Defining the layers, 400, 200, 100 units each\n",
    "        self.fc1 = nn.Linear(784, 400)\n",
    "        self.fc2 = nn.Linear(400, 200)\n",
    "        self.fc3 = nn.Linear(200, 100)\n",
    "        # Output layer, 10 units - one for each digit\n",
    "        self.fc4 = nn.Linear(100, 10)\n",
    "        \n",
    "    def forward(self, x):\n",
    "        ''' Forward pass through the network, returns the output logits '''\n",
    "        \n",
    "        x = self.fc1(x)\n",
    "        x = F.relu(x)\n",
    "        x = self.fc2(x)\n",
    "        x = F.relu(x)\n",
    "        x = self.fc3(x)\n",
    "        x = F.relu(x)\n",
    "        x = self.fc4(x)\n",
    "        x = F.softmax(x, dim=1)\n",
    "        \n",
    "        return x\n",
    "\n",
    "model_new = N_Network()\n",
    "model_new"
   ]
  },
  {
   "cell_type": "code",
   "execution_count": 21,
   "metadata": {},
   "outputs": [
    {
     "name": "stdout",
     "output_type": "stream",
     "text": [
      "Parameter containing:\n",
      "tensor([[ 9.9561e-03,  2.4737e-02, -3.3572e-02,  ...,  1.9944e-02,\n",
      "          5.1477e-03, -1.4058e-02],\n",
      "        [-3.1759e-03, -7.9028e-03, -7.0252e-03,  ..., -6.6499e-04,\n",
      "          3.0485e-02,  2.9083e-03],\n",
      "        [ 8.7428e-03, -1.1284e-02,  2.0941e-02,  ..., -2.2446e-02,\n",
      "          1.9603e-02, -1.1209e-02],\n",
      "        ...,\n",
      "        [ 2.6516e-02,  2.9098e-02,  9.0065e-03,  ..., -6.9969e-03,\n",
      "          2.6296e-02, -1.9682e-02],\n",
      "        [-1.9274e-02,  2.1660e-02,  4.9850e-03,  ..., -1.0400e-02,\n",
      "         -5.1209e-03,  3.0374e-02],\n",
      "        [-2.9628e-02,  3.8091e-03,  2.0859e-02,  ..., -2.0841e-02,\n",
      "         -7.8148e-04, -1.0607e-02]])\n",
      "Parameter containing:\n",
      "tensor(1.00000e-02 *\n",
      "       [-1.7500, -2.9667,  3.4410, -0.8649,  0.7316, -3.0905, -1.4262,\n",
      "         2.8135, -1.6959,  1.0540,  3.2711,  0.0172, -2.6350, -1.9855,\n",
      "         2.8331,  1.7933, -2.6878,  3.4690,  3.2274, -1.6664, -0.4943,\n",
      "        -2.1912, -3.0153, -1.4025,  3.0964, -1.3527, -2.7802, -1.2430,\n",
      "        -3.3001,  1.1906, -3.2271,  0.2333, -2.2219, -0.2015,  0.3763,\n",
      "         1.9756, -1.7315, -0.0891,  1.2204, -1.0183, -0.1793,  0.9590,\n",
      "         2.6749,  3.4188, -2.6764,  0.9331,  2.8093, -2.8563, -0.5193,\n",
      "         2.3673,  3.4122,  0.0702, -2.3478,  0.4835,  3.1113,  0.1208,\n",
      "         1.0843, -0.9054, -1.5967,  2.1778,  1.2210,  3.4314, -2.9350,\n",
      "        -0.5620, -2.2062, -2.1767, -0.5666, -2.8574,  0.5688, -3.1470,\n",
      "        -2.5922, -2.4364,  3.1103, -2.0214, -2.1240,  2.2634,  2.3957,\n",
      "        -0.5662,  2.2153,  0.1280,  2.0154, -0.2608, -3.4044,  2.2859,\n",
      "         2.7763,  3.2483, -2.0474,  0.2474, -1.4759, -1.6961,  1.5911,\n",
      "         1.8216, -0.4595, -2.4738,  0.9530,  1.0073, -1.5955,  0.8643,\n",
      "         2.3541,  3.4092, -1.9622, -0.2658, -2.8020, -1.0922, -3.2081,\n",
      "         3.4530,  2.4462, -0.6893,  1.5280, -2.5470,  1.4678,  2.7187,\n",
      "         2.9303, -2.5472,  1.5116, -1.1505,  3.4308,  0.4943, -0.9007,\n",
      "        -0.6101, -1.4892,  1.6193,  2.9568,  0.9006, -3.0811, -0.9329,\n",
      "         0.2197,  2.2365,  1.8553, -1.0733,  2.5840,  1.2502, -1.5661,\n",
      "         2.4768,  2.4372, -2.8667,  2.1138,  3.5067, -0.4867,  2.9648,\n",
      "        -0.7425, -0.5386, -0.3771, -0.5161, -1.2736,  2.8195, -2.3733,\n",
      "        -2.4362,  0.6107,  2.7549,  1.6889,  1.0619, -1.0682, -0.4610,\n",
      "        -3.1723, -0.1670, -3.2937,  1.0561,  3.2184,  2.4173,  2.9658,\n",
      "         3.4307,  0.5020,  1.4811,  2.8441, -1.1934,  0.4231,  1.2280,\n",
      "        -1.4323,  1.4008,  1.9660, -3.0425, -1.5571, -1.0809,  0.7101,\n",
      "         0.3782,  3.5100,  2.4833,  1.3050,  2.7414,  2.3860, -2.4448,\n",
      "        -1.0239, -1.3844, -1.9479,  2.6528, -3.1990, -0.9304,  0.2433,\n",
      "        -3.5514,  1.6976,  2.0028, -0.1467, -0.1819, -2.5483,  0.9073,\n",
      "        -1.0150, -1.2092,  3.0154, -0.2300, -1.2884,  0.9677, -0.5467,\n",
      "         0.2571, -2.8165, -2.0341,  0.4713,  1.9880, -2.8179,  3.1909,\n",
      "         2.6805,  2.4699, -2.9051, -1.7306,  0.7819, -0.6250,  3.1310,\n",
      "        -3.2209,  3.4137, -2.8394,  1.4133, -1.3700,  2.3218,  0.5302,\n",
      "        -2.3914, -2.3814,  2.9460, -3.3145, -2.5150, -1.3509, -2.3801,\n",
      "         3.3960,  1.8252,  3.3039, -1.5599,  2.8216,  2.5581,  1.6078,\n",
      "        -1.1541,  1.2955,  2.3016, -0.4910, -1.8108, -1.7973, -1.6402,\n",
      "        -0.3221, -1.7584,  0.4514, -0.9933,  2.2225,  1.0577,  0.3143,\n",
      "         3.2746,  2.3018,  0.4585,  0.9302, -1.6875,  0.1233, -1.5918,\n",
      "         0.8213,  3.4650,  2.7757,  0.5147, -1.6913, -1.6632, -1.6778,\n",
      "        -0.6464, -0.9154, -3.0311,  2.3133, -2.9515,  1.1032,  1.1751,\n",
      "         2.3800,  2.8775,  0.4284,  2.6459,  1.2395, -1.9881, -1.9047,\n",
      "         1.9360, -3.4414, -0.7411, -2.2904,  1.1973, -0.0136, -1.5301,\n",
      "        -0.1707, -2.8127,  0.9297,  1.2731,  0.3072,  1.7939,  1.9087,\n",
      "         1.8871,  1.7534, -3.2650, -2.4031, -3.1901,  0.6697,  1.3463,\n",
      "        -0.1823, -0.0437, -1.9209, -1.0374, -1.5086, -1.8904, -3.5506,\n",
      "        -2.3822, -2.4276, -0.2086,  2.1250, -0.6640,  2.3449, -3.2019,\n",
      "        -2.2120,  3.1951,  1.7941, -3.4802, -3.4557, -0.9672,  0.5982,\n",
      "        -1.1427, -2.0468,  1.0149,  3.4330,  2.7851, -2.4842, -1.4573,\n",
      "        -3.2960, -3.1105, -0.0158, -2.2528, -3.0130, -0.1331,  2.2120,\n",
      "        -2.6403,  1.0559,  0.3420, -1.0183,  0.5580, -0.3099,  2.0535,\n",
      "         2.9145, -1.0410, -3.0288, -2.8419, -0.6508,  1.3342,  1.8940,\n",
      "         0.3796,  0.1848,  0.2087, -2.3066, -2.1124,  2.8767, -3.5449,\n",
      "        -1.7437,  3.4291,  3.3479,  0.1140, -1.5338, -0.0431, -1.7819,\n",
      "        -1.3933, -2.9708, -3.1616,  2.3614,  2.2869, -1.2384, -1.4301,\n",
      "         3.5014, -1.3232,  1.1297, -2.1136, -3.1325,  0.0067, -0.2221,\n",
      "        -1.5823, -0.2146,  3.4230,  1.0138, -1.6536, -0.0972, -2.8056,\n",
      "        -1.6425, -1.7484, -0.1340, -2.8677, -0.8810, -2.3951, -1.5949,\n",
      "        -0.1912, -3.5407,  0.0162,  0.1636, -3.1207,  2.9595,  1.7514,\n",
      "         3.0345])\n"
     ]
    }
   ],
   "source": [
    "#print weights & bias\n",
    "print(model_new.fc1.weight)\n",
    "print(model_new.fc1.bias)"
   ]
  },
  {
   "cell_type": "code",
   "execution_count": 22,
   "metadata": {},
   "outputs": [
    {
     "data": {
      "text/plain": [
       "tensor([ 0.,  0.,  0.,  0.,  0.,  0.,  0.,  0.,  0.,  0.,  0.,  0.,\n",
       "         0.,  0.,  0.,  0.,  0.,  0.,  0.,  0.,  0.,  0.,  0.,  0.,\n",
       "         0.,  0.,  0.,  0.,  0.,  0.,  0.,  0.,  0.,  0.,  0.,  0.,\n",
       "         0.,  0.,  0.,  0.,  0.,  0.,  0.,  0.,  0.,  0.,  0.,  0.,\n",
       "         0.,  0.,  0.,  0.,  0.,  0.,  0.,  0.,  0.,  0.,  0.,  0.,\n",
       "         0.,  0.,  0.,  0.,  0.,  0.,  0.,  0.,  0.,  0.,  0.,  0.,\n",
       "         0.,  0.,  0.,  0.,  0.,  0.,  0.,  0.,  0.,  0.,  0.,  0.,\n",
       "         0.,  0.,  0.,  0.,  0.,  0.,  0.,  0.,  0.,  0.,  0.,  0.,\n",
       "         0.,  0.,  0.,  0.,  0.,  0.,  0.,  0.,  0.,  0.,  0.,  0.,\n",
       "         0.,  0.,  0.,  0.,  0.,  0.,  0.,  0.,  0.,  0.,  0.,  0.,\n",
       "         0.,  0.,  0.,  0.,  0.,  0.,  0.,  0.,  0.,  0.,  0.,  0.,\n",
       "         0.,  0.,  0.,  0.,  0.,  0.,  0.,  0.,  0.,  0.,  0.,  0.,\n",
       "         0.,  0.,  0.,  0.,  0.,  0.,  0.,  0.,  0.,  0.,  0.,  0.,\n",
       "         0.,  0.,  0.,  0.,  0.,  0.,  0.,  0.,  0.,  0.,  0.,  0.,\n",
       "         0.,  0.,  0.,  0.,  0.,  0.,  0.,  0.,  0.,  0.,  0.,  0.,\n",
       "         0.,  0.,  0.,  0.,  0.,  0.,  0.,  0.,  0.,  0.,  0.,  0.,\n",
       "         0.,  0.,  0.,  0.,  0.,  0.,  0.,  0.,  0.,  0.,  0.,  0.,\n",
       "         0.,  0.,  0.,  0.,  0.,  0.,  0.,  0.,  0.,  0.,  0.,  0.,\n",
       "         0.,  0.,  0.,  0.,  0.,  0.,  0.,  0.,  0.,  0.,  0.,  0.,\n",
       "         0.,  0.,  0.,  0.,  0.,  0.,  0.,  0.,  0.,  0.,  0.,  0.,\n",
       "         0.,  0.,  0.,  0.,  0.,  0.,  0.,  0.,  0.,  0.,  0.,  0.,\n",
       "         0.,  0.,  0.,  0.,  0.,  0.,  0.,  0.,  0.,  0.,  0.,  0.,\n",
       "         0.,  0.,  0.,  0.,  0.,  0.,  0.,  0.,  0.,  0.,  0.,  0.,\n",
       "         0.,  0.,  0.,  0.,  0.,  0.,  0.,  0.,  0.,  0.,  0.,  0.,\n",
       "         0.,  0.,  0.,  0.,  0.,  0.,  0.,  0.,  0.,  0.,  0.,  0.,\n",
       "         0.,  0.,  0.,  0.,  0.,  0.,  0.,  0.,  0.,  0.,  0.,  0.,\n",
       "         0.,  0.,  0.,  0.,  0.,  0.,  0.,  0.,  0.,  0.,  0.,  0.,\n",
       "         0.,  0.,  0.,  0.,  0.,  0.,  0.,  0.,  0.,  0.,  0.,  0.,\n",
       "         0.,  0.,  0.,  0.,  0.,  0.,  0.,  0.,  0.,  0.,  0.,  0.,\n",
       "         0.,  0.,  0.,  0.,  0.,  0.,  0.,  0.,  0.,  0.,  0.,  0.,\n",
       "         0.,  0.,  0.,  0.,  0.,  0.,  0.,  0.,  0.,  0.,  0.,  0.,\n",
       "         0.,  0.,  0.,  0.,  0.,  0.,  0.,  0.,  0.,  0.,  0.,  0.,\n",
       "         0.,  0.,  0.,  0.,  0.,  0.,  0.,  0.,  0.,  0.,  0.,  0.,\n",
       "         0.,  0.,  0.,  0.])"
      ]
     },
     "execution_count": 22,
     "metadata": {},
     "output_type": "execute_result"
    }
   ],
   "source": [
    "# Set biases to all zeros\n",
    "model_new.fc1.bias.data.fill_(0)"
   ]
  },
  {
   "cell_type": "code",
   "execution_count": 23,
   "metadata": {},
   "outputs": [
    {
     "data": {
      "text/plain": [
       "tensor([[ 1.3090e-02, -2.4282e-03, -1.2210e-02,  ...,  8.9831e-03,\n",
       "          1.5440e-02, -1.1854e-02],\n",
       "        [-4.9841e-03,  4.1323e-03,  1.2325e-02,  ...,  1.2646e-03,\n",
       "          5.9378e-03, -8.2253e-03],\n",
       "        [-1.3660e-02,  1.1251e-02, -1.7700e-03,  ..., -8.7550e-04,\n",
       "         -2.7941e-03,  2.2629e-02],\n",
       "        ...,\n",
       "        [-1.4624e-02, -2.6474e-03,  4.2263e-03,  ..., -4.7814e-03,\n",
       "          5.3610e-03, -1.5151e-02],\n",
       "        [-1.6725e-02,  1.0025e-02,  1.8847e-03,  ..., -1.0154e-02,\n",
       "         -2.0267e-02,  1.0492e-02],\n",
       "        [ 9.2588e-04, -3.3675e-03, -1.5391e-03,  ...,  7.9325e-03,\n",
       "          2.0975e-03,  5.8558e-03]])"
      ]
     },
     "execution_count": 23,
     "metadata": {},
     "output_type": "execute_result"
    }
   ],
   "source": [
    "# Normalize weight\n",
    "model_new.fc1.weight.data.normal_(std=0.01)"
   ]
  },
  {
   "cell_type": "code",
   "execution_count": 31,
   "metadata": {},
   "outputs": [
    {
     "data": {
      "image/png": "[encoded data removed]",
      "text/plain": [
       "<matplotlib.figure.Figure at 0x7f0b1df6b470>"
      ]
     },
     "metadata": {
      "image/png": {
       "height": 224,
       "width": 423
      }
     },
     "output_type": "display_data"
    }
   ],
   "source": [
    "## Run this cell with your model to make sure it works ##\n",
    "# Forward pass through the network and display output\n",
    "images, labels = next(iter(trainloader))\n",
    "images.resize_(images.shape[0], 1, 784)\n",
    "ps = model_new.forward(images[0,:])\n",
    "helper.view_classify(images[0].view(1, 28, 28), ps)"
   ]
  },
  {
   "cell_type": "code",
   "execution_count": 29,
   "metadata": {},
   "outputs": [
    {
     "name": "stdout",
     "output_type": "stream",
     "text": [
      "Sequential(\n",
      "  (0): Linear(in_features=784, out_features=400, bias=True)\n",
      "  (1): ReLU()\n",
      "  (2): Linear(in_features=400, out_features=200, bias=True)\n",
      "  (3): ReLU()\n",
      "  (4): Linear(in_features=200, out_features=100, bias=True)\n",
      "  (5): ReLU()\n",
      "  (6): Linear(in_features=100, out_features=10, bias=True)\n",
      "  (7): Softmax()\n",
      ")\n"
     ]
    }
   ],
   "source": [
    "#Alternate way\n",
    "# Hyperparameters for our network\n",
    "input_size = 784\n",
    "hidden_sizes = [400, 200, 100]\n",
    "output_size = 10\n",
    "\n",
    "# Build a feed-forward network\n",
    "model = nn.Sequential(nn.Linear(input_size, hidden_sizes[0]),\n",
    "                      nn.ReLU(),\n",
    "                      nn.Linear(hidden_sizes[0], hidden_sizes[1]),\n",
    "                      nn.ReLU(),\n",
    "                      nn.Linear(hidden_sizes[1],hidden_sizes[2]),\n",
    "                      nn.ReLU(),\n",
    "                      nn.Linear(hidden_sizes[2], output_size),\n",
    "                      nn.Softmax(dim=1))\n",
    "print(model)"
   ]
  },
  {
   "cell_type": "code",
   "execution_count": 34,
   "metadata": {},
   "outputs": [
    {
     "data": {
      "text/plain": [
       "Sequential(\n",
       "  (fc1): Linear(in_features=784, out_features=400, bias=True)\n",
       "  (relu1): ReLU()\n",
       "  (fc2): Linear(in_features=400, out_features=200, bias=True)\n",
       "  (relu2): ReLU()\n",
       "  (fc3): Linear(in_features=200, out_features=100, bias=True)\n",
       "  (relu3): ReLU()\n",
       "  (output): Linear(in_features=100, out_features=10, bias=True)\n",
       "  (softmax): Softmax()\n",
       ")"
      ]
     },
     "execution_count": 34,
     "metadata": {},
     "output_type": "execute_result"
    }
   ],
   "source": [
    "model = nn.Sequential(OrderedDict([\n",
    "                      ('fc1', nn.Linear(input_size, hidden_sizes[0])),\n",
    "                      ('relu1', nn.ReLU()),\n",
    "                      ('fc2', nn.Linear(hidden_sizes[0], hidden_sizes[1])),\n",
    "                      ('relu2', nn.ReLU()),\n",
    "                      ('fc3', nn.Linear(hidden_sizes[1], hidden_sizes[2])),\n",
    "                      ('relu3', nn.ReLU()),    \n",
    "                      ('output', nn.Linear(hidden_sizes[2], output_size)),\n",
    "                      ('softmax', nn.Softmax(dim=1))]))\n",
    "model"
   ]
  },
  {
   "cell_type": "code",
   "execution_count": 35,
   "metadata": {},
   "outputs": [
    {
     "data": {
      "image/png": "[encoded data removed]",
      "text/plain": [
       "<matplotlib.figure.Figure at 0x7f0b1debf400>"
      ]
     },
     "metadata": {
      "image/png": {
       "height": 224,
       "width": 423
      }
     },
     "output_type": "display_data"
    }
   ],
   "source": [
    "## Run this cell with your model to make sure it works ##\n",
    "# Forward pass through the network and display output\n",
    "images, labels = next(iter(trainloader))\n",
    "images.resize_(images.shape[0], 1, 784)\n",
    "ps = model.forward(images[0,:])\n",
    "helper.view_classify(images[0].view(1, 28, 28), ps)"
   ]
  },
  {
   "cell_type": "code",
   "execution_count": null,
   "metadata": {},
   "outputs": [],
   "source": []
  }
 ],
 "metadata": {
  "kernelspec": {
   "display_name": "Python 3",
   "language": "python",
   "name": "python3"
  },
  "language_info": {
   "codemirror_mode": {
    "name": "ipython",
    "version": 3
   },
   "file_extension": ".py",
   "mimetype": "text/x-python",
   "name": "python",
   "nbconvert_exporter": "python",
   "pygments_lexer": "ipython3",
   "version": "3.6.3"
  }
 },
 "nbformat": 4,
 "nbformat_minor": 2
}
